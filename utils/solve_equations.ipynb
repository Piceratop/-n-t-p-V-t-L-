{
 "cells": [
  {
   "cell_type": "code",
   "execution_count": 7,
   "id": "7d5f3929",
   "metadata": {},
   "outputs": [],
   "source": [
    "import sympy as sp\n",
    "from sympy import Abs, Eq"
   ]
  },
  {
   "cell_type": "code",
   "execution_count": 8,
   "id": "053a1bad",
   "metadata": {},
   "outputs": [
    {
     "name": "stdout",
     "output_type": "stream",
     "text": [
      "Solutions: {0, 3/5 + sqrt(29)/5, 2, 3/5 - sqrt(29)/5}\n"
     ]
    }
   ],
   "source": [
    "x = sp.symbols('x')\n",
    "expr1 = 2*x**2 - 2*x - 2\n",
    "expr2 = 3*x**2 - 4*x - 2\n",
    "\n",
    "# Case 1: Both expressions are positive or both are negative\n",
    "solutions1 = sp.solve(Eq(expr1, expr2), x)\n",
    "solutions2 = sp.solve(Eq(expr1, -expr2), x)\n",
    "\n",
    "# Case 2: First is positive, second is negative\n",
    "solutions3 = sp.solve(Eq(expr1, -expr2), x)\n",
    "\n",
    "# Case 3: First is negative, second is positive\n",
    "solutions4 = sp.solve(Eq(-expr1, expr2), x)\n",
    "\n",
    "# Combine all solutions and remove duplicates\n",
    "all_solutions = set(solutions1 + solutions2 + solutions3 + solutions4)\n",
    "print(\"Solutions:\", all_solutions)"
   ]
  }
 ],
 "metadata": {
  "kernelspec": {
   "display_name": "Python 3",
   "language": "python",
   "name": "python3"
  },
  "language_info": {
   "codemirror_mode": {
    "name": "ipython",
    "version": 3
   },
   "file_extension": ".py",
   "mimetype": "text/x-python",
   "name": "python",
   "nbconvert_exporter": "python",
   "pygments_lexer": "ipython3",
   "version": "3.12.6"
  }
 },
 "nbformat": 4,
 "nbformat_minor": 5
}
