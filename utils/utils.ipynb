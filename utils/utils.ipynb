{
 "cells": [
  {
   "cell_type": "code",
   "execution_count": 2,
   "id": "7d5f3929",
   "metadata": {},
   "outputs": [],
   "source": [
    "import sympy"
   ]
  },
  {
   "cell_type": "code",
   "execution_count": 9,
   "id": "053a1bad",
   "metadata": {},
   "outputs": [
    {
     "name": "stdout",
     "output_type": "stream",
     "text": [
      "\\frac{2 x - 5}{x - 3}\n",
      "\\frac{8}{5}\n"
     ]
    }
   ],
   "source": [
    "# Solve a trigonometric equation\n",
    "x = sympy.symbols('x')\n",
    "expression = (2*(x) - 5)/(x - 3)\n",
    "print(sympy.latex(expression))\n",
    "\n",
    "value = expression.subs(x, sympy.Rational('0.5')).simplify()\n",
    "print(sympy.latex(value))"
   ]
  },
  {
   "cell_type": "code",
   "execution_count": null,
   "id": "6273391f",
   "metadata": {},
   "outputs": [],
   "source": []
  },
  {
   "cell_type": "code",
   "execution_count": null,
   "id": "6d17c1ec",
   "metadata": {},
   "outputs": [
    {
     "name": "stdout",
     "output_type": "stream",
     "text": [
      "Hello universe! Welcome to the universe of Python.\n"
     ]
    }
   ],
   "source": [
    "# Example 1: Replace all occurrences of a substring\n",
    "text = \"Hello world! Welcome to the world of Python.\"\n",
    "result = text.replace(\"world\", \"universe\")\n",
    "print(result)\n",
    "# Output: Hello universe! Welcome to the universe of Python.\n"
   ]
  }
 ],
 "metadata": {
  "kernelspec": {
   "display_name": "Python 3",
   "language": "python",
   "name": "python3"
  },
  "language_info": {
   "codemirror_mode": {
    "name": "ipython",
    "version": 3
   },
   "file_extension": ".py",
   "mimetype": "text/x-python",
   "name": "python",
   "nbconvert_exporter": "python",
   "pygments_lexer": "ipython3",
   "version": "3.11.9"
  }
 },
 "nbformat": 4,
 "nbformat_minor": 5
}
