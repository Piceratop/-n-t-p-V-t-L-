{
 "cells": [
  {
   "cell_type": "code",
   "execution_count": 2,
   "id": "7d5f3929",
   "metadata": {},
   "outputs": [],
   "source": [
    "from sympy import symbols, solve, Eq, sin\n",
    "import sympy"
   ]
  },
  {
   "cell_type": "code",
   "execution_count": 5,
   "id": "053a1bad",
   "metadata": {},
   "outputs": [
    {
     "name": "stdout",
     "output_type": "stream",
     "text": [
      "\\frac{2 x - 5}{x - 3}\n"
     ]
    }
   ],
   "source": [
    "# Solve a trigonometric equation\n",
    "x = symbols('x')\n",
    "expression = (2*x - 5)/(x - 3)\n",
    "print(sympy.latex(expression))"
   ]
  },
  {
   "cell_type": "code",
   "execution_count": null,
   "id": "6273391f",
   "metadata": {},
   "outputs": [],
   "source": [
    "def write_line(opened_file, line):\n",
    "   opened_file.write(\"\\\\\" + line + \"\\n\")\n",
    "\n",
    "def write_graph_code(file, functions, x_clip, y_clip):\n",
    "   color_order = [\"colorEmphasisCyan\", \"colorEmphasis\"]\n",
    "\n",
    "   with open(file, \"w\") as f:\n",
    "      write_line(f, r\"begin{figure}[H]\")\n",
    "      write_line(f, \"centering\")\n",
    "      write_line(f, r\"begin{tikzpicture}\")\n",
    "   \n",
    "      write_line(f, f\"clip ({x_clip[0] - 0.5}, {y_clip[0]}) rectangle ({x_clip[1] + 0.5}, {y_clip[1] + 0.5});\")\n",
    "      write_line(f, f\"draw[->] ({x_clip[0]}, 0) -- ({x_clip[1]}, 0);\")\n",
    "      write_line(f, f\"draw[->] (0, {y_clip[0]}) -- (0, {y_clip[1]});\")\n",
    "\n",
    "      for func_id in range(len(functions)):\n",
    "         x = symbols('x')\n",
    "\n",
    "         # Get the fitting drawing range\n",
    "         equation = Eq(eval(functions[func_id]), y_clip[0])\n",
    "         solutions = solve(equation, x)\n",
    "         solutions = [sol.evalf() for sol in solutions if sol.is_real]\n",
    "         left_end = solutions[0]\n",
    "\n",
    "         equation = Eq(eval(functions[func_id]), y_clip[1])\n",
    "         solutions = solve(equation, x)\n",
    "         solutions = [sol.evalf() for sol in solutions if sol.is_real]\n",
    "         right_end = solutions[0]\n",
    "\n",
    "         func = functions[func_id].replace(\"x\", r\"(\\x)\").replace(\"**\", \"^\")\n",
    "         write_line(f, f\"draw[graph thickness, color={color_order[func_id]}, domain={left_end}:{right_end}] plot \" + r\"(\\x, {\" + func + r\"});\")\n",
    "\n",
    "      write_line(f, r\"end{tikzpicture}\")\n",
    "      write_line(f, r\"end{figure}\")\n",
    "\n",
    "latex_output_file = \"output.tex\"\n",
    "\n",
    "write_graph_code(latex_output_file, [\"x**7\"], (-3, 3), (-3, 3))"
   ]
  },
  {
   "cell_type": "code",
   "execution_count": null,
   "id": "6d17c1ec",
   "metadata": {},
   "outputs": [
    {
     "name": "stdout",
     "output_type": "stream",
     "text": [
      "Hello universe! Welcome to the universe of Python.\n"
     ]
    }
   ],
   "source": [
    "# Example 1: Replace all occurrences of a substring\n",
    "text = \"Hello world! Welcome to the world of Python.\"\n",
    "result = text.replace(\"world\", \"universe\")\n",
    "print(result)\n",
    "# Output: Hello universe! Welcome to the universe of Python.\n"
   ]
  }
 ],
 "metadata": {
  "kernelspec": {
   "display_name": "Python 3",
   "language": "python",
   "name": "python3"
  },
  "language_info": {
   "codemirror_mode": {
    "name": "ipython",
    "version": 3
   },
   "file_extension": ".py",
   "mimetype": "text/x-python",
   "name": "python",
   "nbconvert_exporter": "python",
   "pygments_lexer": "ipython3",
   "version": "3.11.9"
  }
 },
 "nbformat": 4,
 "nbformat_minor": 5
}
