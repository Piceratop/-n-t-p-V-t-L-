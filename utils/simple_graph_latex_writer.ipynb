{
 "cells": [
  {
   "cell_type": "code",
   "execution_count": 1,
   "id": "f92efece",
   "metadata": {},
   "outputs": [
    {
     "ename": "ModuleNotFoundError",
     "evalue": "No module named 'sympy'",
     "output_type": "error",
     "traceback": [
      "\u001b[31m---------------------------------------------------------------------------\u001b[39m",
      "\u001b[31mModuleNotFoundError\u001b[39m                       Traceback (most recent call last)",
      "\u001b[36mCell\u001b[39m\u001b[36m \u001b[39m\u001b[32mIn[1]\u001b[39m\u001b[32m, line 1\u001b[39m\n\u001b[32m----> \u001b[39m\u001b[32m1\u001b[39m \u001b[38;5;28;01mfrom\u001b[39;00m\u001b[38;5;250m \u001b[39m\u001b[34;01msimple_graph_latex_writer\u001b[39;00m\u001b[38;5;250m \u001b[39m\u001b[38;5;28;01mimport\u001b[39;00m write_graph_code, write_scatter_plot_latex\n\u001b[32m      2\u001b[39m \u001b[38;5;28;01mimport\u001b[39;00m\u001b[38;5;250m \u001b[39m\u001b[34;01msympy\u001b[39;00m\n",
      "\u001b[36mFile \u001b[39m\u001b[32m~/-n-t-p-V-t-L-/utils/simple_graph_latex_writer.py:1\u001b[39m\n\u001b[32m----> \u001b[39m\u001b[32m1\u001b[39m \u001b[38;5;28;01mfrom\u001b[39;00m\u001b[38;5;250m \u001b[39m\u001b[34;01msympy\u001b[39;00m\u001b[38;5;250m \u001b[39m\u001b[38;5;28;01mimport\u001b[39;00m symbols, solve, Eq\n\u001b[32m      2\u001b[39m \u001b[38;5;28;01mimport\u001b[39;00m\u001b[38;5;250m \u001b[39m\u001b[34;01msympy\u001b[39;00m\n\u001b[32m      5\u001b[39m \u001b[38;5;28;01mdef\u001b[39;00m\u001b[38;5;250m \u001b[39m\u001b[34mwrite_line\u001b[39m(opened_file, line, tab_count=\u001b[32m0\u001b[39m):\n",
      "\u001b[31mModuleNotFoundError\u001b[39m: No module named 'sympy'"
     ]
    }
   ],
   "source": [
    "from simple_graph_latex_writer import write_graph_code, write_scatter_plot_latex\n",
    "import sympy"
   ]
  },
  {
   "cell_type": "code",
   "execution_count": 2,
   "id": "e3fea170",
   "metadata": {},
   "outputs": [
    {
     "ename": "NameError",
     "evalue": "name 'write_graph_code' is not defined",
     "output_type": "error",
     "traceback": [
      "\u001b[31m---------------------------------------------------------------------------\u001b[39m",
      "\u001b[31mNameError\u001b[39m                                 Traceback (most recent call last)",
      "\u001b[36mCell\u001b[39m\u001b[36m \u001b[39m\u001b[32mIn[2]\u001b[39m\u001b[32m, line 3\u001b[39m\n\u001b[32m      1\u001b[39m latex_output_file = \u001b[33m\"\u001b[39m\u001b[33moutput.tex\u001b[39m\u001b[33m\"\u001b[39m\n\u001b[32m----> \u001b[39m\u001b[32m3\u001b[39m \u001b[43mwrite_graph_code\u001b[49m(\n\u001b[32m      4\u001b[39m    latex_output_file,\n\u001b[32m      5\u001b[39m    [\u001b[33m\"\u001b[39m\u001b[33m2 + x - x**2\u001b[39m\u001b[33m\"\u001b[39m],\n\u001b[32m      6\u001b[39m    x_clip=(\u001b[32m1\u001b[39m, \u001b[32m4\u001b[39m),\n\u001b[32m      7\u001b[39m    y_clip=(-\u001b[32m4\u001b[39m, \u001b[32m4\u001b[39m),\n\u001b[32m      8\u001b[39m    samples=[],\n\u001b[32m      9\u001b[39m    decimal=\u001b[38;5;28;01mFalse\u001b[39;00m,\n\u001b[32m     10\u001b[39m    y_label=\u001b[33m\"\u001b[39m\u001b[33mf(x)\u001b[39m\u001b[33m\"\u001b[39m,\n\u001b[32m     11\u001b[39m )\n\u001b[32m     13\u001b[39m \u001b[38;5;66;03m# write_scatter_plot_latex(\u001b[39;00m\n\u001b[32m     14\u001b[39m \u001b[38;5;66;03m#    latex_output_file,\u001b[39;00m\n\u001b[32m     15\u001b[39m \u001b[38;5;66;03m#    x_clip=(-4, 4),\u001b[39;00m\n\u001b[32m   (...)\u001b[39m\u001b[32m     21\u001b[39m \u001b[38;5;66;03m#    y_label=r\"f(x)\",\u001b[39;00m\n\u001b[32m     22\u001b[39m \u001b[38;5;66;03m# )\u001b[39;00m\n",
      "\u001b[31mNameError\u001b[39m: name 'write_graph_code' is not defined"
     ]
    }
   ],
   "source": [
    "latex_output_file = \"output.tex\"\n",
    "\n",
    "write_graph_code(\n",
    "   latex_output_file,\n",
    "   [\"2 + x - x**2\"],\n",
    "   x_clip=(1, 4),\n",
    "   y_clip=(-4, 4),\n",
    "   samples=[],\n",
    "   decimal=False,\n",
    "   y_label=\"f(x)\",\n",
    ")\n",
    "\n",
    "# write_scatter_plot_latex(\n",
    "#    latex_output_file,\n",
    "#    x_clip=(-4, 4),\n",
    "#    y_clip=(-4, 4),\n",
    "#    caption=r\"$f(x)$\",\n",
    "#    points=[],\n",
    "#    decimal=False,\n",
    "#    color=\"colorEmphasisCyan\",\n",
    "#    y_label=r\"f(x)\",\n",
    "# )"
   ]
  },
  {
   "cell_type": "code",
   "execution_count": null,
   "id": "41b491f8",
   "metadata": {},
   "outputs": [],
   "source": [
    "# def write_simple_inequality(file, function1, function2, x_clip, y_clip):\n",
    "#    color_order = [\"colorEmphasisCyan\", \"colorEmphasis\"]\n",
    "\n",
    "#    with open(file, \"w\") as f:\n",
    "#       write_line(f, r\"begin{figure}[H]\")\n",
    "#       write_line(f, \"centering\", 1)\n",
    "#       write_line(f, r\"begin{tikzpicture}\", 1)\n",
    "   \n",
    "#       # write_line(f, f\"clip ({x_clip[0] - 0.5}, {y_clip[0]}) rectangle ({x_clip[1] + 0.5}, {y_clip[1] + 0.5});\")\n",
    "#       write_line(f, f\"draw[->] ({x_clip[0]}, 0) -- ({x_clip[1]}, 0) node[right] \" + \"{$x$};\", 2)\n",
    "#       write_line(f, f\"draw[->] (0, {y_clip[0]}) -- (0, {y_clip[1]})  node[above] \" + \"{$y$};\", 2)\n",
    "\n",
    "#       x = symbols('x')\n",
    "\n",
    "#       # Get the fitting drawing range\n",
    "#       equation = Eq(eval(function1), y_clip[0])\n",
    "#       solutions = solve(equation, x)\n",
    "#       solutions = [sol.evalf() for sol in solutions if sol.is_real]\n",
    "#       left_end1 = solutions[0]\n",
    "\n",
    "#       equation = Eq(eval(function1), y_clip[1])\n",
    "#       solutions = solve(equation, x)\n",
    "#       solutions = [sol.evalf() for sol in solutions if sol.is_real]\n",
    "#       right_end1 = solutions[0]\n",
    "\n",
    "#       func1 = function1.replace(\"x\", r\"(\\x)\").replace(\"**\", \"^\")\n",
    "#       write_line(f, f\"draw[graph thickness, color={color_order[0]}, domain={format(left_end1, \".3f\")}:{format(right_end1, \".3f\")}] plot \" + r\"(\\x, {\" + func1 + r\"});\", 2)\n",
    "\n",
    "#       # func2 = function2.replace(\"x\", r\"(\\x)\").replace(\"**\", \"^\")\n",
    "#       # write_line(f, f\"draw[graph thickness, color={color_order[0]}, domain={format(left_end, \".3f\")}:{format(right_end, \".3f\")}] plot \" + r\"(\\x, {\" + func2 + r\"});\", 2)\n",
    "\n",
    "#       write_line(f, r\"end{tikzpicture}\", 1)\n",
    "#       write_line(f, r\"end{figure}\")"
   ]
  }
 ],
 "metadata": {
  "kernelspec": {
   "display_name": "venv",
   "language": "python",
   "name": "python3"
  },
  "language_info": {
   "codemirror_mode": {
    "name": "ipython",
    "version": 3
   },
   "file_extension": ".py",
   "mimetype": "text/x-python",
   "name": "python",
   "nbconvert_exporter": "python",
   "pygments_lexer": "ipython3",
   "version": "3.11.10"
  }
 },
 "nbformat": 4,
 "nbformat_minor": 5
}
